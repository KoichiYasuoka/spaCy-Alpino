{
  "nbformat":4,
  "nbformat_minor":0,
  "metadata":{
    "colab":{ "name":"spaCy-Alpino on Google Colaboratory" },
    "kernelspec":{ "name":"python3" }
  },
  "cells":[
    {
      "cell_type":"markdown",
      "metadata":{ "colab_type":"text" },
      "source":[
        "# [spaCy-Alpino](https://github.com/KoichiYasuoka/spaCy-Alpino) on Google Colaboratory"
      ]
    },
    {
      "cell_type":"code",
      "metadata":{ "colab_type":"code" },
      "source":[
        "!sudo apt install xqilla libxss1\n",
        "!test -f Alpino.tar.gz || curl -L https://www.let.rug.nl/vannoord/alp/Alpino/versions/binary/latest.tar.gz -o Alpino.tar.gz\n",
        "!test -d Alpino || tar xzf Alpino.tar.gz\n",
        "!pip install spacy_alpino\n",
        "import spacy_alpino\n",
        "nlp=spacy_alpino.load(\"Alpino/bin/Alpino\")\n",
        "doc=nlp(\"Zorg dat daar geen zwarte hond tussen komt.\")\n",
        "import deplacy\n",
        "deplacy.render(doc)\n",
        "deplacy.serve(doc,port=None)\n",
        "# import graphviz\n",
        "# graphviz.Source(deplacy.dot(doc))"
      ],
      "outputs":[
        {
          "output_type":"stream",
          "text":[
            "Zorg   VERB  ═════════════╗═╗ ROOT\n",
            "dat    SCONJ <══════════╗ ║ ║ mark\n",
            "daar   ADV   ═════╗<══╗ ║ ║ ║ obl\n",
            "geen   DET   <══╗ ║   ║ ║ ║ ║ det\n",
            "zwarte ADJ   <╗ ║ ║   ║ ║ ║ ║ amod\n",
            "hond   NOUN  ═╝═╝ ║<╗ ║ ║ ║ ║ nsubj\n",
            "tussen ADP   <════╝ ║ ║ ║ ║ ║ case\n",
            "komt   VERB  ═══════╝═╝═╝<╝ ║ ccomp\n",
            ".      PUNCT <══════════════╝ punct\n",
            "\n"
          ]
        },
        {
          "output_type":"display_data",
          "data":{
            "text/html":[
              "<iframe width=\"100%\" height=\"400\" src=\"https://koichiyasuoka.github.io/deplacy/deplacy/editor.html#1%09Zorg%09zorgen%09VERB%09WW%7Cpv%7Ctgw%7Cev%09_%090%09ROOT%09_%09_%0A2%09dat%09dat%09SCONJ%09VG%7Conder%09_%098%09mark%09_%09_%0A3%09daar%09daar%09ADV%09VNW%7Caanw%7Cadv-pron%7Cobl%7Cvol%7C3o%7Cgetal%09_%098%09obl%09_%09_%0A4%09geen%09geen%09DET%09VNW%7Conbep%7Cdet%7Cstan%7Cprenom%7Czonder%7Cagr%09_%096%09det%09_%09_%0A5%09zwarte%09zwart%09ADJ%09ADJ%7Cprenom%7Cbasis%7Cmet-e%7Cstan%09_%096%09amod%09_%09_%0A6%09hond%09hond%09NOUN%09N%7Csoort%7Cev%7Cbasis%7Czijd%7Cstan%09_%098%09nsubj%09_%09_%0A7%09tussen%09tussen%09ADP%09VZ%7Cfin%09_%093%09case%09_%09_%0A8%09komt%09komen%09VERB%09WW%7Cpv%7Ctgw%7Cmet-t%09_%091%09ccomp%09_%09SpaceAfter%3DNo%0A9%09.%09.%09PUNCT%09LET%09_%091%09punct%09_%09SpaceAfter%3DNo%0A%0A\" frameborder=\"0\" allowfullscreen></iframe>\n"
            ]
          }
        }
      ]
    }
  ]
}
